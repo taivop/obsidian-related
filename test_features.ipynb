{
 "cells": [
  {
   "cell_type": "code",
   "execution_count": 1,
   "id": "85f3a3be",
   "metadata": {},
   "outputs": [
    {
     "name": "stdout",
     "output_type": "stream",
     "text": [
      "/Users/taivo/kb\n"
     ]
    }
   ],
   "source": [
    "%load_ext autoreload\n",
    "%autoreload 2\n",
    "\n",
    "import obsidiantools\n",
    "import obsidiantools.api as otools\n",
    "import os\n",
    "import pathlib\n",
    "import obsfeatures\n",
    "\n",
    "vault_path = pathlib.Path(os.path.expanduser(\"~/kb\"))\n",
    "print(vault_path)\n",
    "vault = otools.Vault(vault_path).connect()"
   ]
  },
  {
   "cell_type": "code",
   "execution_count": 2,
   "id": "6afa1674",
   "metadata": {},
   "outputs": [],
   "source": [
    "commitment = obsfeatures.Note.from_path(\"Commitment\", vault_path / \"Commitment.md\")\n",
    "daily1 = obsfeatures.Note.from_path(\"2021-08-17\", vault_path / \"2021-08-17.md\")"
   ]
  },
  {
   "cell_type": "code",
   "execution_count": 3,
   "id": "a9f4eeee",
   "metadata": {},
   "outputs": [
    {
     "data": {
      "text/plain": [
       "False"
      ]
     },
     "execution_count": 3,
     "metadata": {},
     "output_type": "execute_result"
    }
   ],
   "source": [
    "obsfeatures.is_daily(commitment)"
   ]
  },
  {
   "cell_type": "code",
   "execution_count": 4,
   "id": "793bc17e",
   "metadata": {},
   "outputs": [],
   "source": [
    "notes = [obsfeatures.Note.from_path(name, vault_path / p) for name, p in vault.file_index.items()]"
   ]
  },
  {
   "cell_type": "code",
   "execution_count": 5,
   "id": "bf738fb8",
   "metadata": {},
   "outputs": [
    {
     "data": {
      "text/plain": [
       "\"Thinking of Hektor, the office situation, and how I might minimise cost while still getting decent coffee. I wonder if I should give up the office... Laur doesn't seem to want to be there anyway.\\n\\nI could indeed save 240€ a month if not using the office... but would I be giving up some optionality value? * ask Laur * email Juri that I wanna end with August\\n\\n* * *\\n\\nDiffuse mode * [[Self-authoring exercises]] * Weight * proprotein * what kaisa imagines our roles will be, vs what they realistically would be * what would be a non-Kaisa alternative world * [[Writing]] and publishing it on blog/newsletter/Linkedin -- currently not doing it at all * [x] Do 2 pomodoros today * Do I want to become the coach for Exclusive's teams next season? * Hambaarsti juures peaks kontrollis käima * [x] Testing hemoglobin again * [x] Tibukesed parking permit update -- when? * [x] glass/ceramics workshop -- when will we do it with Jane?\\n\\n* * *\\n\\n[[Post - diffuse mode]]\\n\\n* * *\\n\\nWhat we need to figure out * How to iterate faster in the lab * How could we get our own casein-producing yeast strain (quickly)\\n\""
      ]
     },
     "execution_count": 5,
     "metadata": {},
     "output_type": "execute_result"
    }
   ],
   "source": [
    "notes[0].plaintext"
   ]
  },
  {
   "cell_type": "code",
   "execution_count": 6,
   "id": "02566fce",
   "metadata": {},
   "outputs": [
    {
     "data": {
      "text/html": [
       "<div>\n",
       "<style scoped>\n",
       "    .dataframe tbody tr th:only-of-type {\n",
       "        vertical-align: middle;\n",
       "    }\n",
       "\n",
       "    .dataframe tbody tr th {\n",
       "        vertical-align: top;\n",
       "    }\n",
       "\n",
       "    .dataframe thead th {\n",
       "        text-align: right;\n",
       "    }\n",
       "</style>\n",
       "<table border=\"1\" class=\"dataframe\">\n",
       "  <thead>\n",
       "    <tr style=\"text-align: right;\">\n",
       "      <th></th>\n",
       "      <th>name</th>\n",
       "      <th>name_n_char</th>\n",
       "      <th>name_n_words</th>\n",
       "      <th>plaintext_n_char</th>\n",
       "      <th>plaintext_n_words</th>\n",
       "      <th>is_daily</th>\n",
       "    </tr>\n",
       "  </thead>\n",
       "  <tbody>\n",
       "    <tr>\n",
       "      <th>0</th>\n",
       "      <td>2021-08-11</td>\n",
       "      <td>10</td>\n",
       "      <td>1</td>\n",
       "      <td>1096</td>\n",
       "      <td>201</td>\n",
       "      <td>False</td>\n",
       "    </tr>\n",
       "    <tr>\n",
       "      <th>1</th>\n",
       "      <td>2021-07-28</td>\n",
       "      <td>10</td>\n",
       "      <td>1</td>\n",
       "      <td>40</td>\n",
       "      <td>4</td>\n",
       "      <td>False</td>\n",
       "    </tr>\n",
       "    <tr>\n",
       "      <th>2</th>\n",
       "      <td>Writing MOC</td>\n",
       "      <td>11</td>\n",
       "      <td>2</td>\n",
       "      <td>530</td>\n",
       "      <td>84</td>\n",
       "      <td>False</td>\n",
       "    </tr>\n",
       "    <tr>\n",
       "      <th>3</th>\n",
       "      <td>Pleasure-pain driven values (Level 1)</td>\n",
       "      <td>37</td>\n",
       "      <td>5</td>\n",
       "      <td>1018</td>\n",
       "      <td>164</td>\n",
       "      <td>False</td>\n",
       "    </tr>\n",
       "    <tr>\n",
       "      <th>4</th>\n",
       "      <td>2021-08-25</td>\n",
       "      <td>10</td>\n",
       "      <td>1</td>\n",
       "      <td>555</td>\n",
       "      <td>90</td>\n",
       "      <td>False</td>\n",
       "    </tr>\n",
       "  </tbody>\n",
       "</table>\n",
       "</div>"
      ],
      "text/plain": [
       "                                    name  name_n_char  name_n_words  \\\n",
       "0                             2021-08-11           10             1   \n",
       "1                             2021-07-28           10             1   \n",
       "2                            Writing MOC           11             2   \n",
       "3  Pleasure-pain driven values (Level 1)           37             5   \n",
       "4                             2021-08-25           10             1   \n",
       "\n",
       "   plaintext_n_char  plaintext_n_words  is_daily  \n",
       "0              1096                201     False  \n",
       "1                40                  4     False  \n",
       "2               530                 84     False  \n",
       "3              1018                164     False  \n",
       "4               555                 90     False  "
      ]
     },
     "execution_count": 6,
     "metadata": {},
     "output_type": "execute_result"
    }
   ],
   "source": [
    "df = obsfeatures.get_notes_individual_df(notes)\n",
    "df.head()"
   ]
  },
  {
   "cell_type": "code",
   "execution_count": 7,
   "id": "4bfff68f",
   "metadata": {},
   "outputs": [
    {
     "name": "stdout",
     "output_type": "stream",
     "text": [
      "You can directly practice no-self\n"
     ]
    },
    {
     "data": {
      "text/html": [
       "<div>\n",
       "<style scoped>\n",
       "    .dataframe tbody tr th:only-of-type {\n",
       "        vertical-align: middle;\n",
       "    }\n",
       "\n",
       "    .dataframe tbody tr th {\n",
       "        vertical-align: top;\n",
       "    }\n",
       "\n",
       "    .dataframe thead th {\n",
       "        text-align: right;\n",
       "    }\n",
       "</style>\n",
       "<table border=\"1\" class=\"dataframe\">\n",
       "  <thead>\n",
       "    <tr style=\"text-align: right;\">\n",
       "      <th></th>\n",
       "      <th>name</th>\n",
       "      <th>jaccard</th>\n",
       "    </tr>\n",
       "  </thead>\n",
       "  <tbody>\n",
       "    <tr>\n",
       "      <th>274</th>\n",
       "      <td>Some things can only be learned through first-...</td>\n",
       "      <td>0.400000</td>\n",
       "    </tr>\n",
       "    <tr>\n",
       "      <th>414</th>\n",
       "      <td>2021-05-23</td>\n",
       "      <td>0.200000</td>\n",
       "    </tr>\n",
       "    <tr>\n",
       "      <th>535</th>\n",
       "      <td>Consciousness can be split</td>\n",
       "      <td>0.200000</td>\n",
       "    </tr>\n",
       "    <tr>\n",
       "      <th>375</th>\n",
       "      <td>Feeling of self</td>\n",
       "      <td>0.166667</td>\n",
       "    </tr>\n",
       "    <tr>\n",
       "      <th>169</th>\n",
       "      <td>Being looked at amplifies the feeling of self</td>\n",
       "      <td>0.166667</td>\n",
       "    </tr>\n",
       "    <tr>\n",
       "      <th>...</th>\n",
       "      <td>...</td>\n",
       "      <td>...</td>\n",
       "    </tr>\n",
       "    <tr>\n",
       "      <th>181</th>\n",
       "      <td>Biotech platform</td>\n",
       "      <td>0.000000</td>\n",
       "    </tr>\n",
       "    <tr>\n",
       "      <th>180</th>\n",
       "      <td>Asperger syndrome</td>\n",
       "      <td>0.000000</td>\n",
       "    </tr>\n",
       "    <tr>\n",
       "      <th>179</th>\n",
       "      <td>Pivot</td>\n",
       "      <td>0.000000</td>\n",
       "    </tr>\n",
       "    <tr>\n",
       "      <th>178</th>\n",
       "      <td>internal critic</td>\n",
       "      <td>0.000000</td>\n",
       "    </tr>\n",
       "    <tr>\n",
       "      <th>557</th>\n",
       "      <td>2021-08-23</td>\n",
       "      <td>0.000000</td>\n",
       "    </tr>\n",
       "  </tbody>\n",
       "</table>\n",
       "<p>558 rows × 2 columns</p>\n",
       "</div>"
      ],
      "text/plain": [
       "                                                  name   jaccard\n",
       "274  Some things can only be learned through first-...  0.400000\n",
       "414                                         2021-05-23  0.200000\n",
       "535                         Consciousness can be split  0.200000\n",
       "375                                    Feeling of self  0.166667\n",
       "169      Being looked at amplifies the feeling of self  0.166667\n",
       "..                                                 ...       ...\n",
       "181                                   Biotech platform  0.000000\n",
       "180                                  Asperger syndrome  0.000000\n",
       "179                                              Pivot  0.000000\n",
       "178                                    internal critic  0.000000\n",
       "557                                         2021-08-23  0.000000\n",
       "\n",
       "[558 rows x 2 columns]"
      ]
     },
     "execution_count": 7,
     "metadata": {},
     "output_type": "execute_result"
    }
   ],
   "source": [
    "import search\n",
    "\n",
    "q = notes[60]\n",
    "print(q.name)\n",
    "obsfeatures.jaccard_coefficients(q, vault.graph).sort_values(\"jaccard\", ascending=False)"
   ]
  },
  {
   "cell_type": "code",
   "execution_count": null,
   "id": "0e921c7b",
   "metadata": {},
   "outputs": [],
   "source": []
  }
 ],
 "metadata": {
  "kernelspec": {
   "display_name": "Python 3 (ipykernel)",
   "language": "python",
   "name": "python3"
  },
  "language_info": {
   "codemirror_mode": {
    "name": "ipython",
    "version": 3
   },
   "file_extension": ".py",
   "mimetype": "text/x-python",
   "name": "python",
   "nbconvert_exporter": "python",
   "pygments_lexer": "ipython3",
   "version": "3.9.1"
  }
 },
 "nbformat": 4,
 "nbformat_minor": 5
}
