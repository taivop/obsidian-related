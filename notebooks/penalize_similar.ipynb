{
 "cells": [
  {
   "cell_type": "code",
   "execution_count": 57,
   "id": "876ab3d6",
   "metadata": {},
   "outputs": [],
   "source": [
    "import features\n",
    "import api\n",
    "import pandas as pd\n",
    "from api import get_note_by_name"
   ]
  },
  {
   "cell_type": "code",
   "execution_count": 52,
   "id": "28d0f37c",
   "metadata": {},
   "outputs": [],
   "source": [
    "index = api.index\n",
    "\n",
    "query_note = get_note_by_name(\"2021-11-24\")\n",
    "feature_df = features.base_features(query_note, index)"
   ]
  },
  {
   "cell_type": "code",
   "execution_count": 58,
   "id": "6370a34a",
   "metadata": {},
   "outputs": [
    {
     "name": "stdout",
     "output_type": "stream",
     "text": [
      "0      Mimetic desire\n",
      "1            System 2\n",
      "2               Prune\n",
      "3         Celebristan\n",
      "4              Babble\n",
      "5       Freshmanistan\n",
      "6       Vulnerability\n",
      "7          Sam Harris\n",
      "8         Writing MOC\n",
      "9    Creating content\n",
      "Name: name, dtype: object\n",
      "0      Mimetic desire\n",
      "1            System 2\n",
      "3         Celebristan\n",
      "6       Vulnerability\n",
      "4              Babble\n",
      "2               Prune\n",
      "5       Freshmanistan\n",
      "7          Sam Harris\n",
      "8         Writing MOC\n",
      "9    Creating content\n",
      "Name: name, dtype: object\n"
     ]
    }
   ],
   "source": [
    "def get_items_jaccard_long(feature_df: pd.DataFrame, n_items: int = 5):\n",
    "    result_df = feature_df\n",
    "    result_df = result_df[result_df[\"is_daily\"] == False]\n",
    "    result_df = result_df[result_df[\"name_n_words\"] > 2]\n",
    "    result_df = result_df[result_df[\"plaintext_n_words\"] >= 10]\n",
    "    result_df = result_df[result_df[\"distance\"] >= 2]\n",
    "    result_df = result_df[result_df[\"jaccard\"] > 0.0]\n",
    "    result_df = result_df.sort_values(\"jaccard\", ascending=False).head(n_items)\n",
    "\n",
    "    return result_df\n",
    "\n",
    "def get_items_jaccard_short(feature_df: pd.DataFrame, n_items: int = 5):\n",
    "    result_df = feature_df\n",
    "    result_df = result_df[result_df[\"is_daily\"] == False]\n",
    "    result_df = result_df[result_df[\"name_n_words\"] <= 2]\n",
    "    result_df = result_df[result_df[\"plaintext_n_words\"] >= 10]\n",
    "    result_df = result_df[result_df[\"distance\"] >= 2]\n",
    "    result_df = result_df[result_df[\"jaccard\"] > 0.0]\n",
    "    result_df = result_df.sort_values(\"jaccard\", ascending=False).head(n_items)\n",
    "\n",
    "    return result_df\n",
    "\n",
    "ranked_df = get_items_jaccard_short(feature_df, 50).reset_index(drop=True)\n",
    "\n",
    "def pair_jaccard(name1, name2):\n",
    "    for n1, n2, jaccard in index.jaccard_pairs:\n",
    "        if n1 == name1 and n2 == name2 or n1 == name2 and n2 == name1:\n",
    "            #print(f\"{jaccard:.3f} - {name1} <-> {name2}\")\n",
    "            return jaccard\n",
    "    \n",
    "    #print(f\"NONE - {name1} <-> {name2}\")\n",
    "    return 0.0\n",
    "\n",
    "PENALTY_FACTOR = 0.5\n",
    "penalties = []\n",
    "for i, row in ranked_df.iterrows():\n",
    "    #print(f\"RANK {i}: {row['name']}\")\n",
    "    if i == 0:\n",
    "        continue\n",
    "    previous_rows = ranked_df.iloc[0:i]\n",
    "    \n",
    "    penalty = 0.0\n",
    "    for j, prevrow in previous_rows.iterrows():\n",
    "        prev_jaccard = pair_jaccard(row[\"name\"], prevrow[\"name\"])\n",
    "        #print(f\"{prev_jaccard}, {i}\")\n",
    "        penalty -= PENALTY_FACTOR * prev_jaccard / i # divide by i so that maximum possible penalty is constant across rank\n",
    "    \n",
    "    penalties.append(penalty)\n",
    "    \n",
    "ranked_df[\"penalty\"] = pd.Series(penalties)\n",
    "ranked_df[\"adjusted_jaccard\"] = ranked_df[\"jaccard\"] + ranked_df[\"penalty\"]\n",
    "\n",
    "print(ranked_df.head(10)[\"name\"])\n",
    "print(ranked_df.sort_values(\"adjusted_jaccard\", ascending=False).head(10)[\"name\"])"
   ]
  }
 ],
 "metadata": {
  "kernelspec": {
   "display_name": "Python 3 (ipykernel)",
   "language": "python",
   "name": "python3"
  },
  "language_info": {
   "codemirror_mode": {
    "name": "ipython",
    "version": 3
   },
   "file_extension": ".py",
   "mimetype": "text/x-python",
   "name": "python",
   "nbconvert_exporter": "python",
   "pygments_lexer": "ipython3",
   "version": "3.9.1"
  }
 },
 "nbformat": 4,
 "nbformat_minor": 5
}
