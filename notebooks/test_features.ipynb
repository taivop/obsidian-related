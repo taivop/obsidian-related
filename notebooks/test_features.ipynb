{
 "cells": [
  {
   "cell_type": "code",
   "execution_count": 3,
   "id": "85f3a3be",
   "metadata": {},
   "outputs": [
    {
     "name": "stdout",
     "output_type": "stream",
     "text": [
      "/Users/taivo/kb\n"
     ]
    }
   ],
   "source": [
    "%load_ext autoreload\n",
    "%autoreload 2\n",
    "\n",
    "import obsidiantools\n",
    "import obsidiantools.api as otools\n",
    "import os\n",
    "import pathlib\n",
    "import features\n",
    "\n",
    "vault_path = pathlib.Path(os.path.expanduser(\"~/kb\"))\n",
    "print(vault_path)\n",
    "vault = otools.Vault(vault_path).connect()"
   ]
  },
  {
   "cell_type": "code",
   "execution_count": 4,
   "id": "6afa1674",
   "metadata": {},
   "outputs": [],
   "source": [
    "commitment = features.Note.from_path(\"Commitment\", vault_path / \"Commitment.md\")\n",
    "daily1 = features.Note.from_path(\"2021-08-17\", vault_path / \"2021-08-17.md\")"
   ]
  },
  {
   "cell_type": "code",
   "execution_count": 5,
   "id": "a9f4eeee",
   "metadata": {},
   "outputs": [
    {
     "data": {
      "text/plain": [
       "False"
      ]
     },
     "execution_count": 5,
     "metadata": {},
     "output_type": "execute_result"
    }
   ],
   "source": [
    "features.is_daily(commitment)"
   ]
  },
  {
   "cell_type": "code",
   "execution_count": 6,
   "id": "793bc17e",
   "metadata": {},
   "outputs": [],
   "source": [
    "notes = [features.Note.from_path(name, vault_path / p) for name, p in vault.file_index.items()]"
   ]
  },
  {
   "cell_type": "code",
   "execution_count": 7,
   "id": "bf738fb8",
   "metadata": {},
   "outputs": [
    {
     "data": {
      "text/plain": [
       "\"Thinking of Hektor, the office situation, and how I might minimise cost while still getting decent coffee. I wonder if I should give up the office... Laur doesn't seem to want to be there anyway.\\n\\nI could indeed save 240€ a month if not using the office... but would I be giving up some optionality value? * ask Laur * email Juri that I wanna end with August\\n\\n* * *\\n\\nDiffuse mode * [[Self-authoring exercises]] * Weight * proprotein * what kaisa imagines our roles will be, vs what they realistically would be * what would be a non-Kaisa alternative world * [[Writing]] and publishing it on blog/newsletter/Linkedin -- currently not doing it at all * [x] Do 2 pomodoros today * Do I want to become the coach for Exclusive's teams next season? * Hambaarsti juures peaks kontrollis käima * [x] Testing hemoglobin again * [x] Tibukesed parking permit update -- when? * [x] glass/ceramics workshop -- when will we do it with Jane?\\n\\n* * *\\n\\n[[Post - diffuse mode]]\\n\\n* * *\\n\\nWhat we need to figure out * How to iterate faster in the lab * How could we get our own casein-producing yeast strain (quickly)\\n\""
      ]
     },
     "execution_count": 7,
     "metadata": {},
     "output_type": "execute_result"
    }
   ],
   "source": [
    "notes[0].plaintext"
   ]
  },
  {
   "cell_type": "code",
   "execution_count": 18,
   "id": "02566fce",
   "metadata": {},
   "outputs": [
    {
     "data": {
      "text/html": [
       "<div>\n",
       "<style scoped>\n",
       "    .dataframe tbody tr th:only-of-type {\n",
       "        vertical-align: middle;\n",
       "    }\n",
       "\n",
       "    .dataframe tbody tr th {\n",
       "        vertical-align: top;\n",
       "    }\n",
       "\n",
       "    .dataframe thead th {\n",
       "        text-align: right;\n",
       "    }\n",
       "</style>\n",
       "<table border=\"1\" class=\"dataframe\">\n",
       "  <thead>\n",
       "    <tr style=\"text-align: right;\">\n",
       "      <th></th>\n",
       "      <th>name</th>\n",
       "      <th>name_n_char</th>\n",
       "      <th>name_n_words</th>\n",
       "      <th>plaintext_n_char</th>\n",
       "      <th>plaintext_n_words</th>\n",
       "      <th>is_daily</th>\n",
       "      <th>exists</th>\n",
       "    </tr>\n",
       "  </thead>\n",
       "  <tbody>\n",
       "    <tr>\n",
       "      <th>0</th>\n",
       "      <td>2021-08-11</td>\n",
       "      <td>10</td>\n",
       "      <td>1</td>\n",
       "      <td>1096</td>\n",
       "      <td>201</td>\n",
       "      <td>True</td>\n",
       "      <td>True</td>\n",
       "    </tr>\n",
       "    <tr>\n",
       "      <th>1</th>\n",
       "      <td>2021-07-28</td>\n",
       "      <td>10</td>\n",
       "      <td>1</td>\n",
       "      <td>40</td>\n",
       "      <td>4</td>\n",
       "      <td>True</td>\n",
       "      <td>True</td>\n",
       "    </tr>\n",
       "    <tr>\n",
       "      <th>2</th>\n",
       "      <td>Writing MOC</td>\n",
       "      <td>11</td>\n",
       "      <td>2</td>\n",
       "      <td>530</td>\n",
       "      <td>84</td>\n",
       "      <td>False</td>\n",
       "      <td>True</td>\n",
       "    </tr>\n",
       "    <tr>\n",
       "      <th>3</th>\n",
       "      <td>Pleasure-pain driven values (Level 1)</td>\n",
       "      <td>37</td>\n",
       "      <td>5</td>\n",
       "      <td>1018</td>\n",
       "      <td>164</td>\n",
       "      <td>False</td>\n",
       "      <td>True</td>\n",
       "    </tr>\n",
       "    <tr>\n",
       "      <th>4</th>\n",
       "      <td>2021-08-25</td>\n",
       "      <td>10</td>\n",
       "      <td>1</td>\n",
       "      <td>555</td>\n",
       "      <td>90</td>\n",
       "      <td>True</td>\n",
       "      <td>True</td>\n",
       "    </tr>\n",
       "  </tbody>\n",
       "</table>\n",
       "</div>"
      ],
      "text/plain": [
       "                                    name  name_n_char  name_n_words  \\\n",
       "0                             2021-08-11           10             1   \n",
       "1                             2021-07-28           10             1   \n",
       "2                            Writing MOC           11             2   \n",
       "3  Pleasure-pain driven values (Level 1)           37             5   \n",
       "4                             2021-08-25           10             1   \n",
       "\n",
       "   plaintext_n_char  plaintext_n_words  is_daily  exists  \n",
       "0              1096                201      True    True  \n",
       "1                40                  4      True    True  \n",
       "2               530                 84     False    True  \n",
       "3              1018                164     False    True  \n",
       "4               555                 90      True    True  "
      ]
     },
     "execution_count": 18,
     "metadata": {},
     "output_type": "execute_result"
    }
   ],
   "source": [
    "df = features.get_notes_individual_df(notes, vault)\n",
    "df.head()"
   ]
  },
  {
   "cell_type": "code",
   "execution_count": 9,
   "id": "4bfff68f",
   "metadata": {},
   "outputs": [
    {
     "name": "stdout",
     "output_type": "stream",
     "text": [
      "There are many secrets left to find\n"
     ]
    },
    {
     "data": {
      "text/html": [
       "<div>\n",
       "<style scoped>\n",
       "    .dataframe tbody tr th:only-of-type {\n",
       "        vertical-align: middle;\n",
       "    }\n",
       "\n",
       "    .dataframe tbody tr th {\n",
       "        vertical-align: top;\n",
       "    }\n",
       "\n",
       "    .dataframe thead th {\n",
       "        text-align: right;\n",
       "    }\n",
       "</style>\n",
       "<table border=\"1\" class=\"dataframe\">\n",
       "  <thead>\n",
       "    <tr style=\"text-align: right;\">\n",
       "      <th></th>\n",
       "      <th>name</th>\n",
       "      <th>jaccard</th>\n",
       "    </tr>\n",
       "  </thead>\n",
       "  <tbody>\n",
       "    <tr>\n",
       "      <th>104</th>\n",
       "      <td>Future has a definite form</td>\n",
       "      <td>0.285714</td>\n",
       "    </tr>\n",
       "    <tr>\n",
       "      <th>254</th>\n",
       "      <td>2021-06-24</td>\n",
       "      <td>0.250000</td>\n",
       "    </tr>\n",
       "    <tr>\n",
       "      <th>199</th>\n",
       "      <td>future</td>\n",
       "      <td>0.200000</td>\n",
       "    </tr>\n",
       "    <tr>\n",
       "      <th>160</th>\n",
       "      <td>2021-10-07</td>\n",
       "      <td>0.200000</td>\n",
       "    </tr>\n",
       "    <tr>\n",
       "      <th>368</th>\n",
       "      <td>I want to be a definite optimist</td>\n",
       "      <td>0.200000</td>\n",
       "    </tr>\n",
       "    <tr>\n",
       "      <th>...</th>\n",
       "      <td>...</td>\n",
       "      <td>...</td>\n",
       "    </tr>\n",
       "    <tr>\n",
       "      <th>183</th>\n",
       "      <td>Resentment</td>\n",
       "      <td>0.000000</td>\n",
       "    </tr>\n",
       "    <tr>\n",
       "      <th>182</th>\n",
       "      <td>Pragmatic truth</td>\n",
       "      <td>0.000000</td>\n",
       "    </tr>\n",
       "    <tr>\n",
       "      <th>181</th>\n",
       "      <td>Mimetic desire can be misaligned with values</td>\n",
       "      <td>0.000000</td>\n",
       "    </tr>\n",
       "    <tr>\n",
       "      <th>180</th>\n",
       "      <td>extortion</td>\n",
       "      <td>0.000000</td>\n",
       "    </tr>\n",
       "    <tr>\n",
       "      <th>558</th>\n",
       "      <td>Empathy</td>\n",
       "      <td>0.000000</td>\n",
       "    </tr>\n",
       "  </tbody>\n",
       "</table>\n",
       "<p>559 rows × 2 columns</p>\n",
       "</div>"
      ],
      "text/plain": [
       "                                             name   jaccard\n",
       "104                    Future has a definite form  0.285714\n",
       "254                                    2021-06-24  0.250000\n",
       "199                                        future  0.200000\n",
       "160                                    2021-10-07  0.200000\n",
       "368              I want to be a definite optimist  0.200000\n",
       "..                                            ...       ...\n",
       "183                                    Resentment  0.000000\n",
       "182                               Pragmatic truth  0.000000\n",
       "181  Mimetic desire can be misaligned with values  0.000000\n",
       "180                                     extortion  0.000000\n",
       "558                                       Empathy  0.000000\n",
       "\n",
       "[559 rows x 2 columns]"
      ]
     },
     "execution_count": 9,
     "metadata": {},
     "output_type": "execute_result"
    }
   ],
   "source": [
    "import search\n",
    "\n",
    "q = notes[60]\n",
    "print(q.name)\n",
    "features.jaccard_coefficients(q, vault.graph).sort_values(\"jaccard\", ascending=False)"
   ]
  },
  {
   "cell_type": "code",
   "execution_count": 15,
   "id": "0e921c7b",
   "metadata": {},
   "outputs": [
    {
     "name": "stdout",
     "output_type": "stream",
     "text": [
      "Desire is always mediated by a model\n"
     ]
    },
    {
     "data": {
      "text/plain": [
       "['Models have their own models',\n",
       " '§ How to live a satisfying life',\n",
       " 'Mimetic desire',\n",
       " 'Wanting (Luke Burgis)']"
      ]
     },
     "execution_count": 15,
     "metadata": {},
     "output_type": "execute_result"
    }
   ],
   "source": [
    "# Plaintext search\n",
    "q = notes[51]\n",
    "print(q.name)\n",
    "\n",
    "[n.name for n in notes if q.name.lower() in n.plaintext.lower()]"
   ]
  },
  {
   "cell_type": "code",
   "execution_count": 22,
   "id": "391fac84",
   "metadata": {},
   "outputs": [
    {
     "data": {
      "text/plain": [
       "True"
      ]
     },
     "execution_count": 22,
     "metadata": {},
     "output_type": "execute_result"
    }
   ],
   "source": [
    "\"desire\" in vault.nonexistent_notes\n",
    "\"Desire\" in vault.file_index"
   ]
  }
 ],
 "metadata": {
  "kernelspec": {
   "display_name": "Python 3 (ipykernel)",
   "language": "python",
   "name": "python3"
  },
  "language_info": {
   "codemirror_mode": {
    "name": "ipython",
    "version": 3
   },
   "file_extension": ".py",
   "mimetype": "text/x-python",
   "name": "python",
   "nbconvert_exporter": "python",
   "pygments_lexer": "ipython3",
   "version": "3.9.1"
  }
 },
 "nbformat": 4,
 "nbformat_minor": 5
}
